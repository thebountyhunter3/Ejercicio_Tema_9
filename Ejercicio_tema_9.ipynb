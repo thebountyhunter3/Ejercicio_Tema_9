{
  "nbformat": 4,
  "nbformat_minor": 0,
  "metadata": {
    "colab": {
      "provenance": []
    },
    "kernelspec": {
      "name": "python3",
      "display_name": "Python 3"
    },
    "language_info": {
      "name": "python"
    }
  },
  "cells": [
    {
      "cell_type": "markdown",
      "source": [
        "## Ejercicio tema 9\n",
        "\n",
        "Crea una clase Persona con las siguientes variables:\n",
        "\n",
        "*   La edad\n",
        "*   El nombre\n",
        "*   Teléfono\n",
        "\n",
        "Una vez creada la clase, crea una nueva clase Cliente que herede de Persona, esta nueva clase tendrá la variable credito solo para esa clase.\n",
        "\n",
        "Crea ahora un objeto de la clase Cliente que debe tener como propiedades la edad, el telefono, el nombre y el credito, tienes que darles valor y mostrarlas por pantalla.\n",
        "\n",
        "Una vez hecho esto, haz lo mismo con la clase Trabajador que herede de Persona, y con una variable salario que solo tenga la clase Trabajador."
      ],
      "metadata": {
        "id": "9ONk5SoGGBgL"
      }
    },
    {
      "cell_type": "code",
      "source": [
        "class Persona():\n",
        "  def __init__(self,e,n,t):\n",
        "    self.edad=e\n",
        "    self.nombre=n\n",
        "    self.Telefono=t\n",
        "\n",
        "  def mostrarDatos(self):\n",
        "    txt=\"{0} {1}, {2}\"\n",
        "    return txt.format(self.edad,self.nombre,self.Telefono)\n",
        "\n",
        "  def datos(self):\n",
        "    print(self.mostrarDatos())  \n",
        "\n",
        "class Cliente(Persona):\n",
        "  def __init__(self, e, n, t, C):\n",
        "    super().__init__(e, n, t)\n",
        "    self.Credito= C\n",
        "\n",
        "  def datos(self):\n",
        "    super().datos()\n",
        "    print(\"Credito: {0}\".format(self.Credito))    \n",
        "\n",
        "class Trabajador(Cliente):\n",
        "  def __init__(self, e, n, t, C, S):\n",
        "    super().__init__(e, n, t, C)\n",
        "    self.Salario= S\n",
        "\n",
        "  def datos(self):\n",
        "    super().datos()\n",
        "    print(\"Salario: {0}\".format(self.Salario))    \n",
        "\n",
        "per1=Trabajador(\"Edad: 38\",\"Nombre: Juan\",\"Telefono: 4332211\",\"tarjeta\",\"2200 Dólares\")    \n",
        "per1.datos()"
      ],
      "metadata": {
        "colab": {
          "base_uri": "https://localhost:8080/"
        },
        "id": "CavNOCObRQma",
        "outputId": "01edcaf1-6461-4ced-c0c0-09433a00b6c2"
      },
      "execution_count": 42,
      "outputs": [
        {
          "output_type": "stream",
          "name": "stdout",
          "text": [
            "Edad: 38 Nombre: Juan, Telefono: 4332211\n",
            "Credito: tarjeta\n",
            "Salario: 2200 Dólares\n"
          ]
        }
      ]
    }
  ]
}